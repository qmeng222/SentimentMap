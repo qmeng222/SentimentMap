{
 "cells": [
  {
   "cell_type": "markdown",
   "id": "b939b722",
   "metadata": {},
   "source": [
    "# Sentiment Analysis of Reddit Comments"
   ]
  },
  {
   "cell_type": "code",
   "execution_count": null,
   "id": "58d5e20d",
   "metadata": {},
   "outputs": [],
   "source": [
    "import openai\n",
    "from openai.error import APIConnectionError, APIError, RateLimitError\n",
    "from typing import List, Dict, Generator, Optional\n",
    "\n",
    "import tiktoken\n",
    "import pandas as pd\n",
    "from dotenv import load_dotenv\n",
    "import sys\n",
    "\n",
    "import re\n",
    "import random\n",
    "import time\n",
    "import praw\n",
    "import os\n",
    "\n",
    "import seaborn as sns\n",
    "import matplotlib.pyplot as plt\n",
    "from IPython.display import display"
   ]
  },
  {
   "cell_type": "code",
   "execution_count": null,
   "id": "b9ff8a50",
   "metadata": {},
   "outputs": [],
   "source": [
    "model = \"gpt-3.5-turbo\"\n",
    "load_dotenv(\".env\")\n",
    "\n",
    "openai.api_key = os.environ[\"OPENAI_API_KEY\"]\n",
    "\n",
    "reddit = praw.Reddit(\n",
    "    client_id=os.environ[\"REDDIT_CLIENT_ID\"],\n",
    "    client_secret=os.environ[\"REDDIT_CLIENT_SECRET\"],\n",
    "    user_agent=f\"script:test:0.0.1 (by u/yourusername)\",\n",
    ")"
   ]
  }
 ],
 "metadata": {
  "kernelspec": {
   "display_name": "Python 3 (ipykernel)",
   "language": "python",
   "name": "python3"
  },
  "language_info": {
   "codemirror_mode": {
    "name": "ipython",
    "version": 3
   },
   "file_extension": ".py",
   "mimetype": "text/x-python",
   "name": "python",
   "nbconvert_exporter": "python",
   "pygments_lexer": "ipython3",
   "version": "3.10.2"
  }
 },
 "nbformat": 4,
 "nbformat_minor": 5
}
